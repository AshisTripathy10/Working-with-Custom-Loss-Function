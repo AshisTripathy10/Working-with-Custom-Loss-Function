{
 "cells": [
  {
   "cell_type": "code",
   "execution_count": 2,
   "metadata": {},
   "outputs": [],
   "source": [
    "import tensorflow as tf"
   ]
  },
  {
   "cell_type": "code",
   "execution_count": 3,
   "metadata": {},
   "outputs": [],
   "source": [
    "from tensorflow import keras"
   ]
  },
  {
   "cell_type": "code",
   "execution_count": 7,
   "metadata": {},
   "outputs": [],
   "source": [
    "from sklearn.datasets import fetch_california_housing"
   ]
  },
  {
   "cell_type": "code",
   "execution_count": 8,
   "metadata": {},
   "outputs": [
    {
     "name": "stderr",
     "output_type": "stream",
     "text": [
      "Downloading Cal. housing from https://ndownloader.figshare.com/files/5976036 to /home/ashistripathy03106360/scikit_learn_data\n"
     ]
    }
   ],
   "source": [
    "housing = fetch_california_housing()"
   ]
  },
  {
   "cell_type": "code",
   "execution_count": 9,
   "metadata": {},
   "outputs": [],
   "source": [
    "from sklearn.model_selection import train_test_split"
   ]
  },
  {
   "cell_type": "code",
   "execution_count": 10,
   "metadata": {},
   "outputs": [],
   "source": [
    "X_train_full, X_test, y_train_full, y_test = train_test_split( housing.data,\n",
    "         housing.target.reshape(-1, 1), random_state=42)\n",
    "\n",
    "X_train, X_valid, y_train, y_valid =  train_test_split( X_train_full, \n",
    "        y_train_full, random_state=42)"
   ]
  },
  {
   "cell_type": "code",
   "execution_count": 11,
   "metadata": {},
   "outputs": [],
   "source": [
    "from sklearn.preprocessing import StandardScaler"
   ]
  },
  {
   "cell_type": "code",
   "execution_count": 12,
   "metadata": {},
   "outputs": [],
   "source": [
    "scaler = StandardScaler()"
   ]
  },
  {
   "cell_type": "code",
   "execution_count": 13,
   "metadata": {},
   "outputs": [],
   "source": [
    "X_train_scaled = scaler.fit_transform(X_train)"
   ]
  },
  {
   "cell_type": "code",
   "execution_count": 14,
   "metadata": {},
   "outputs": [],
   "source": [
    "X_valid_scaled = scaler.transform(X_valid)"
   ]
  },
  {
   "cell_type": "code",
   "execution_count": 15,
   "metadata": {},
   "outputs": [],
   "source": [
    "X_test_scaled = scaler.transform(X_test)"
   ]
  },
  {
   "cell_type": "code",
   "execution_count": 24,
   "metadata": {},
   "outputs": [],
   "source": [
    " def huber_fn(y_true, y_pred):\n",
    "        error = y_true - y_pred\n",
    "        is_small_error = tf.abs(error) < 1\n",
    "        squared_loss = tf.square(error) / 2\n",
    "        linear_loss  = tf.abs(error) - 0.5\n",
    "        return tf.where(is_small_error, squared_loss, linear_loss)"
   ]
  },
  {
   "cell_type": "code",
   "execution_count": 27,
   "metadata": {},
   "outputs": [],
   "source": [
    "model = keras.models.Sequential([\n",
    "    keras.layers.Dense(30, activation=\"selu\", \n",
    "       kernel_initializer=\"lecun_normal\", \n",
    "       input_shape=X_train.shape[1:]),\n",
    "    keras.layers.Dense(1),\n",
    "])"
   ]
  },
  {
   "cell_type": "code",
   "execution_count": 32,
   "metadata": {},
   "outputs": [],
   "source": [
    "model.compile(loss=huber_fn, optimizer=\"nadam\", metrics=[\"mae\"])"
   ]
  },
  {
   "cell_type": "code",
   "execution_count": 33,
   "metadata": {},
   "outputs": [
    {
     "name": "stdout",
     "output_type": "stream",
     "text": [
      "Epoch 1/15\n",
      "363/363 [==============================] - 1s 2ms/step - loss: 0.5497 - mae: 0.8968 - val_loss: 0.2935 - val_mae: 0.5838\n",
      "Epoch 2/15\n",
      "363/363 [==============================] - 1s 2ms/step - loss: 0.2125 - mae: 0.5050 - val_loss: 0.2402 - val_mae: 0.5231\n",
      "Epoch 3/15\n",
      "363/363 [==============================] - 1s 2ms/step - loss: 0.2028 - mae: 0.4912 - val_loss: 0.1914 - val_mae: 0.4732\n",
      "Epoch 4/15\n",
      "363/363 [==============================] - 1s 2ms/step - loss: 0.1958 - mae: 0.4821 - val_loss: 0.1980 - val_mae: 0.4751\n",
      "Epoch 5/15\n",
      "363/363 [==============================] - 1s 2ms/step - loss: 0.1921 - mae: 0.4761 - val_loss: 0.1941 - val_mae: 0.4708\n",
      "Epoch 6/15\n",
      "363/363 [==============================] - 1s 2ms/step - loss: 0.1891 - mae: 0.4717 - val_loss: 0.1798 - val_mae: 0.4565\n",
      "Epoch 7/15\n",
      "363/363 [==============================] - 1s 2ms/step - loss: 0.1857 - mae: 0.4661 - val_loss: 0.1761 - val_mae: 0.4502\n",
      "Epoch 8/15\n",
      "363/363 [==============================] - 1s 2ms/step - loss: 0.1826 - mae: 0.4615 - val_loss: 0.1707 - val_mae: 0.4415\n",
      "Epoch 9/15\n",
      "363/363 [==============================] - 1s 2ms/step - loss: 0.1796 - mae: 0.4564 - val_loss: 0.1919 - val_mae: 0.4603\n",
      "Epoch 10/15\n",
      "363/363 [==============================] - 1s 2ms/step - loss: 0.1785 - mae: 0.4541 - val_loss: 0.1733 - val_mae: 0.4404\n",
      "Epoch 11/15\n",
      "363/363 [==============================] - 1s 2ms/step - loss: 0.1761 - mae: 0.4503 - val_loss: 0.1666 - val_mae: 0.4375\n",
      "Epoch 12/15\n",
      "363/363 [==============================] - 1s 2ms/step - loss: 0.1746 - mae: 0.4474 - val_loss: 0.1639 - val_mae: 0.4342\n",
      "Epoch 13/15\n",
      "363/363 [==============================] - 1s 2ms/step - loss: 0.1731 - mae: 0.4450 - val_loss: 0.1866 - val_mae: 0.4526\n",
      "Epoch 14/15\n",
      "363/363 [==============================] - 1s 2ms/step - loss: 0.1715 - mae: 0.4417 - val_loss: 0.1824 - val_mae: 0.4432\n",
      "Epoch 15/15\n",
      "363/363 [==============================] - 1s 2ms/step - loss: 0.1704 - mae: 0.4393 - val_loss: 0.1664 - val_mae: 0.4317\n"
     ]
    },
    {
     "data": {
      "text/plain": [
       "<keras.callbacks.History at 0x7fd9bc3749b0>"
      ]
     },
     "execution_count": 33,
     "metadata": {},
     "output_type": "execute_result"
    }
   ],
   "source": [
    "model.fit(X_train_scaled,y_train, epochs=15,\n",
    "  validation_data=(X_valid_scaled, y_valid))"
   ]
  },
  {
   "cell_type": "code",
   "execution_count": 34,
   "metadata": {},
   "outputs": [
    {
     "name": "stdout",
     "output_type": "stream",
     "text": [
      "162/162 [==============================] - 0s 1ms/step - loss: 0.1692 - mae: 0.4386\n"
     ]
    },
    {
     "data": {
      "text/plain": [
       "[0.169189453125, 0.43863487243652344]"
      ]
     },
     "execution_count": 34,
     "metadata": {},
     "output_type": "execute_result"
    }
   ],
   "source": [
    "model.evaluate(X_test_scaled, y_test)"
   ]
  },
  {
   "cell_type": "code",
   "execution_count": null,
   "metadata": {},
   "outputs": [],
   "source": []
  }
 ],
 "metadata": {
  "kernelspec": {
   "display_name": "tensorflow2",
   "language": "python",
   "name": "tensorflow2"
  },
  "language_info": {
   "codemirror_mode": {
    "name": "ipython",
    "version": 3
   },
   "file_extension": ".py",
   "mimetype": "text/x-python",
   "name": "python",
   "nbconvert_exporter": "python",
   "pygments_lexer": "ipython3",
   "version": "3.6.8"
  },
  "toc": {
   "base_numbering": 1,
   "nav_menu": {},
   "number_sections": true,
   "sideBar": true,
   "skip_h1_title": false,
   "title_cell": "Table of Contents",
   "title_sidebar": "Contents",
   "toc_cell": false,
   "toc_position": {},
   "toc_section_display": true,
   "toc_window_display": false
  }
 },
 "nbformat": 4,
 "nbformat_minor": 2
}
